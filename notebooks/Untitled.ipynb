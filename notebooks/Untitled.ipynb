{
 "cells": [
  {
   "cell_type": "code",
   "execution_count": 4,
   "metadata": {},
   "outputs": [
    {
     "data": {
      "text/plain": [
       "{'distribute': {'computer_list': ['tst008@acet116-lnx-10.bucknell.edu',\n",
       "   'tst008@acet116-lnx-11.bucknell.edu',\n",
       "   'tst008@acet116-lnx-12.bucknell.edu',\n",
       "   'localhost'],\n",
       "  'max_jobs': 1,\n",
       "  'min_gpu': 500},\n",
       " 'optimizer': {'num_restarts': 10,\n",
       "  'raw_samples': 500,\n",
       "  'options': {'batch_limit': 5, 'max_iter': 200, 'seed': 0}}}"
      ]
     },
     "execution_count": 4,
     "metadata": {},
     "output_type": "execute_result"
    }
   ],
   "source": [
    "import sys\n",
    "sys.path.insert(0,\"../\")\n",
    "\n",
    "from src.optimizers.neioptimizer import *\n",
    "from src.utils.config import CONFIG\n",
    "CONFIG"
   ]
  },
  {
   "cell_type": "code",
   "execution_count": 2,
   "metadata": {},
   "outputs": [],
   "source": [
    "bounds = {\n",
    "    'x1': (0,1),\n",
    "    'x2': (0,1),\n",
    "    'x3': (0,1),\n",
    "    'x4': (0,1),\n",
    "    'x5': (0,1),\n",
    "    'x6': (0,1)\n",
    "}\n",
    "optimizer = NEIOptimizer(bounds, device=\"cpu\")"
   ]
  },
  {
   "cell_type": "code",
   "execution_count": 13,
   "metadata": {},
   "outputs": [
    {
     "data": {
      "text/plain": [
       "{'result': (0.7298500774779506, 0.14578367815575727)}"
      ]
     },
     "execution_count": 13,
     "metadata": {},
     "output_type": "execute_result"
    }
   ],
   "source": [
    "class ToyFunctionTrainer():\n",
    "    \n",
    "    NOISE_SE = 0.5\n",
    "    NOISE_OF_NOISE = 0.1\n",
    "    NOISE_FURTHER = 0.2\n",
    "\n",
    "import torch\n",
    "\n",
    "dtype = float\n",
    "train_x = torch.tensor([2,3], dtype=dtype)\n",
    "exact_objective = train_x[0] ** 2 - (train_x[1] - 1) ** 2 + 1\n",
    "observed_noise = ToyFunctionTrainer.NOISE_SE * torch.randn_like(exact_objective) + \\\n",
    "                 ToyFunctionTrainer.NOISE_OF_NOISE * torch.randn_like(exact_objective)\n",
    "noisy_objective = exact_objective + observed_noise + \\\n",
    "                  ToyFunctionTrainer.NOISE_FURTHER * torch.randn_like(exact_objective)\n",
    "{\"result\": (\n",
    "    float(noisy_objective.cpu().numpy()), \n",
    "    float(observed_noise.cpu().numpy())\n",
    ")}"
   ]
  }
 ],
 "metadata": {
  "kernelspec": {
   "display_name": "Python 3",
   "language": "python",
   "name": "python3"
  },
  "language_info": {
   "codemirror_mode": {
    "name": "ipython",
    "version": 3
   },
   "file_extension": ".py",
   "mimetype": "text/x-python",
   "name": "python",
   "nbconvert_exporter": "python",
   "pygments_lexer": "ipython3",
   "version": "3.7.4"
  }
 },
 "nbformat": 4,
 "nbformat_minor": 4
}
