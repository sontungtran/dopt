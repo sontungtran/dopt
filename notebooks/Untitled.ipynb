{
 "cells": [
  {
   "cell_type": "code",
   "execution_count": 4,
   "metadata": {},
   "outputs": [
    {
     "data": {
      "text/plain": [
       "{'distribute': {'computer_list': ['tst008@acet116-lnx-10.bucknell.edu',\n",
       "   'tst008@acet116-lnx-11.bucknell.edu',\n",
       "   'tst008@acet116-lnx-12.bucknell.edu',\n",
       "   'localhost'],\n",
       "  'max_jobs': 1,\n",
       "  'min_gpu': 500},\n",
       " 'optimizer': {'num_restarts': 10,\n",
       "  'raw_samples': 500,\n",
       "  'options': {'batch_limit': 5, 'max_iter': 200, 'seed': 0}}}"
      ]
     },
     "execution_count": 4,
     "metadata": {},
     "output_type": "execute_result"
    }
   ],
   "source": [
    "import sys\n",
    "sys.path.insert(0,\"../\")\n",
    "\n",
    "from src.optimizers.neioptimizer import *\n",
    "from src.utils.config import CONFIG\n",
    "CONFIG"
   ]
  },
  {
   "cell_type": "code",
   "execution_count": 2,
   "metadata": {},
   "outputs": [],
   "source": [
    "bounds = {\n",
    "    'x1': (0,1),\n",
    "    'x2': (0,1),\n",
    "    'x3': (0,1),\n",
    "    'x4': (0,1),\n",
    "    'x5': (0,1),\n",
    "    'x6': (0,1)\n",
    "}\n",
    "optimizer = NEIOptimizer(bounds, device=\"cpu\")"
   ]
  },
  {
   "cell_type": "code",
   "execution_count": 13,
   "metadata": {},
   "outputs": [
    {
     "data": {
      "text/plain": [
       "{'result': (0.7298500774779506, 0.14578367815575727)}"
      ]
     },
     "execution_count": 13,
     "metadata": {},
     "output_type": "execute_result"
    }
   ],
   "source": [
    "class ToyFunctionTrainer():\n",
    "    \n",
    "    NOISE_SE = 0.5\n",
    "    NOISE_OF_NOISE = 0.1\n",
    "    NOISE_FURTHER = 0.2\n",
    "\n",
    "import torch\n",
    "\n",
    "dtype = float\n",
    "train_x = torch.tensor([2,3], dtype=dtype)\n",
    "exact_objective = train_x[0] ** 2 - (train_x[1] - 1) ** 2 + 1\n",
    "observed_noise = ToyFunctionTrainer.NOISE_SE * torch.randn_like(exact_objective) + \\\n",
    "                 ToyFunctionTrainer.NOISE_OF_NOISE * torch.randn_like(exact_objective)\n",
    "noisy_objective = exact_objective + observed_noise + \\\n",
    "                  ToyFunctionTrainer.NOISE_FURTHER * torch.randn_like(exact_objective)\n",
    "{\"result\": (\n",
    "    float(noisy_objective.cpu().numpy()), \n",
    "    float(observed_noise.cpu().numpy())\n",
    ")}"
   ]
  },
  {
   "cell_type": "code",
   "execution_count": 15,
   "metadata": {},
   "outputs": [
    {
     "data": {
      "text/plain": [
       "1.0012941360473633"
      ]
     },
     "execution_count": 15,
     "metadata": {},
     "output_type": "execute_result"
    }
   ],
   "source": [
    "import time\n",
    "start = time.time()\n",
    "time.sleep(1)\n",
    "elapsed = time.time() - start\n",
    "elapsed"
   ]
  },
  {
   "cell_type": "code",
   "execution_count": 34,
   "metadata": {},
   "outputs": [
    {
     "data": {
      "text/plain": [
       "datetime.timedelta(seconds=1, microseconds=970)"
      ]
     },
     "execution_count": 34,
     "metadata": {},
     "output_type": "execute_result"
    }
   ],
   "source": [
    "import datetime\n",
    "start = datetime.datetime.now()\n",
    "time.sleep(1)\n",
    "datetime.datetime.now() - start"
   ]
  },
  {
   "cell_type": "code",
   "execution_count": 79,
   "metadata": {},
   "outputs": [
    {
     "data": {
      "text/plain": [
       "'05/29/2020-21:57:10'"
      ]
     },
     "execution_count": 79,
     "metadata": {},
     "output_type": "execute_result"
    }
   ],
   "source": [
    "datetime.datetime.now().strftime(\"%m/%d/%Y-%H:%M:%S\")"
   ]
  },
  {
   "cell_type": "code",
   "execution_count": 65,
   "metadata": {},
   "outputs": [
    {
     "data": {
      "text/plain": [
       "1.0927777777777778"
      ]
     },
     "execution_count": 65,
     "metadata": {},
     "output_type": "execute_result"
    }
   ],
   "source": [
    "(datetime.datetime(2020, 5, 30, 23) - datetime.datetime.now()).seconds / 3600"
   ]
  },
  {
   "cell_type": "code",
   "execution_count": 95,
   "metadata": {},
   "outputs": [
    {
     "name": "stdout",
     "output_type": "stream",
     "text": [
      "[{\"1\": 232, \"2\": 343, \"this\": {\"shiet\": 0, \"is\": 1}}, {\"1\": 434, \"2\": 555}]\n"
     ]
    }
   ],
   "source": [
    "import json\n",
    "print(json.dumps([{1:232, 2:343, \"this\": {\"shiet\":0, \"is\":1}}, {1:434, 2:555}], indent=None))"
   ]
  },
  {
   "cell_type": "code",
   "execution_count": 40,
   "metadata": {},
   "outputs": [
    {
     "data": {
      "text/plain": [
       "array([0., 0., 0., 0., 0., 0., 0., 0., 0., 0., 0., 0., 0., 0., 0., 0., 0.,\n",
       "       0., 0., 0., 0., 0., 0., 0., 0., 0., 0., 0., 0., 0., 0., 0., 0., 0.,\n",
       "       0., 0., 0., 0., 0., 0., 0., 0., 0., 0., 0., 0., 0., 0., 0., 0., 0.,\n",
       "       0., 0., 0., 0., 0., 0., 0., 0., 0., 0., 0., 0., 0., 0., 0., 0., 0.,\n",
       "       0., 0.])"
      ]
     },
     "execution_count": 40,
     "metadata": {},
     "output_type": "execute_result"
    }
   ],
   "source": [
    "ci(y_nei)"
   ]
  },
  {
   "cell_type": "code",
   "execution_count": 90,
   "metadata": {},
   "outputs": [
    {
     "name": "stdout",
     "output_type": "stream",
     "text": [
      "None\n",
      "{\n",
      "\n"
     ]
    }
   ],
   "source": [
    "from os import path\n",
    "import os\n",
    "\n",
    "print(os.chdir(\"/home/tung/summer\"))\n",
    "with open(\"notebooks/Untitled.ipynb\", 'r') as f:\n",
    "    print(f.readline())"
   ]
  },
  {
   "cell_type": "code",
   "execution_count": 86,
   "metadata": {},
   "outputs": [
    {
     "data": {
      "text/plain": [
       "tensor([4, 2, 2])"
      ]
     },
     "execution_count": 86,
     "metadata": {},
     "output_type": "execute_result"
    }
   ],
   "source": [
    "target = torch.empty(3, dtype=torch.long).random_(5)\n",
    "target"
   ]
  },
  {
   "cell_type": "code",
   "execution_count": 87,
   "metadata": {},
   "outputs": [
    {
     "data": {
      "text/plain": [
       "tensor([[ 1.1401, -0.9596, -0.7716, -0.2779, -0.5351],\n",
       "        [-1.3308, -0.2641, -1.3861, -0.2534, -1.1528],\n",
       "        [-0.5103,  1.4937, -1.1248, -2.0627, -1.1546]], requires_grad=True)"
      ]
     },
     "execution_count": 87,
     "metadata": {},
     "output_type": "execute_result"
    }
   ],
   "source": [
    "torch.randn(3, 5, requires_grad=True)"
   ]
  }
 ],
 "metadata": {
  "kernelspec": {
   "display_name": "Python 3",
   "language": "python",
   "name": "python3"
  },
  "language_info": {
   "codemirror_mode": {
    "name": "ipython",
    "version": 3
   },
   "file_extension": ".py",
   "mimetype": "text/x-python",
   "name": "python",
   "nbconvert_exporter": "python",
   "pygments_lexer": "ipython3",
   "version": "3.7.4"
  }
 },
 "nbformat": 4,
 "nbformat_minor": 4
}
