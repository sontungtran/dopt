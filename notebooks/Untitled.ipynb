{
 "cells": [
  {
   "cell_type": "code",
   "execution_count": 1,
   "metadata": {},
   "outputs": [
    {
     "data": {
      "text/plain": [
       "{'distribute': {'computer_list': ['tst008@acet116-lnx-10.bucknell.edu',\n",
       "   'tst008@acet116-lnx-11.bucknell.edu',\n",
       "   'tst008@acet116-lnx-12.bucknell.edu'],\n",
       "  'max_jobs': 1,\n",
       "  'min_gpu': 500},\n",
       " 'optimizer': {'num_restarts': 10,\n",
       "  'raw_samples': 500,\n",
       "  'options': {'batch_limit': 5, 'max_iter': 200, 'seed': 0}}}"
      ]
     },
     "execution_count": 1,
     "metadata": {},
     "output_type": "execute_result"
    }
   ],
   "source": [
    "import sys\n",
    "sys.path.insert(0,\"../\")\n",
    "import time\n",
    "\n",
    "import numpy as np\n",
    "from matplotlib import pyplot as plt\n",
    "from IPython.display import clear_output\n",
    "\n",
    "from src.optimizers.neioptimizer import *\n",
    "from src.utils.config import CONFIG\n",
    "CONFIG"
   ]
  },
  {
   "cell_type": "code",
   "execution_count": 292,
   "metadata": {},
   "outputs": [
    {
     "data": {
      "image/png": "[encoded data removed]",
      "text/plain": [
       "<Figure size 576x432 with 1 Axes>"
      ]
     },
     "metadata": {
      "needs_background": "light"
     },
     "output_type": "display_data"
    }
   ],
   "source": [
    "from botorch.test_functions.synthetic import Hartmann\n",
    "\n",
    "def visualize():\n",
    "    file_name = \"../yaleface.json\"\n",
    "    # Load the data\n",
    "    train_obj_nei, train_yvar_nei = [], []\n",
    "    with open(file_name, \"r\") as f:\n",
    "        for line in f.readlines():\n",
    "            observation = json.loads(line)\n",
    "            train_obj_nei.append(observation[\"result\"][0])\n",
    "            train_yvar_nei.append(observation[\"result\"][1])\n",
    "\n",
    "#     neg_hartmann6 = Hartmann(negate=True)\n",
    "#     GLOBAL_MAXIMUM = neg_hartmann6.optimal_value\n",
    "    GLOBAL_MAXIMUM = 1\n",
    "\n",
    "    iters = np.arange(max(len(train_obj_nei), len(train_obj_nei)))\n",
    "    y_nei = np.array(train_obj_nei)\n",
    "    y_err = np.array(train_yvar_nei)\n",
    "\n",
    "    fig, ax = plt.subplots(1, 1, figsize=(8, 6))\n",
    "    ax.errorbar(iters, y_nei, yerr=y_err, label=\"qNEI\", linewidth=1.5, ecolor=['yellow'])\n",
    "    plt.plot([0, iters.shape[0]], [GLOBAL_MAXIMUM] * 2, 'k', label=\"true best bjective\", linewidth=2)\n",
    "    ax.set_ylim(bottom=0.5)\n",
    "    ax.set(xlabel='number of observations (beyond initial points)', ylabel='best objective value')\n",
    "    ax.legend(loc=\"lower right\")\n",
    "    plt.show()\n",
    "\n",
    "count = 199\n",
    "while count < 200:\n",
    "    visualize()\n",
    "    clear_output(wait=True)\n",
    "    time.sleep(2)\n",
    "    count += 1"
   ]
  },
  {
   "cell_type": "code",
   "execution_count": 3,
   "metadata": {},
   "outputs": [
    {
     "data": {
      "text/plain": [
       "'/home/tung/summer/notebooks'"
      ]
     },
     "execution_count": 3,
     "metadata": {},
     "output_type": "execute_result"
    }
   ],
   "source": [
    "import os\n",
    "os.getcwd()"
   ]
  },
  {
   "cell_type": "code",
   "execution_count": null,
   "metadata": {},
   "outputs": [],
   "source": [
    "datetime.datetime.now().strftime(\"%m/%d/%Y-%H:%M:%S\")"
   ]
  },
  {
   "cell_type": "code",
   "execution_count": 288,
   "metadata": {},
   "outputs": [
    {
     "data": {
      "text/plain": [
       "(tensor([[[0.0434, 0.3694, 0.9811, 0.5450, 0.7956, 0.7019]]]),\n",
       " torch.Size([1, 1, 6]))"
      ]
     },
     "execution_count": 288,
     "metadata": {},
     "output_type": "execute_result"
    }
   ],
   "source": [
    "from botorch.utils.transforms import (\n",
    "    match_batch_shape\n",
    ")\n",
    "X = torch.rand((1,1,6))\n",
    "X, X.shape"
   ]
  },
  {
   "cell_type": "code",
   "execution_count": 289,
   "metadata": {},
   "outputs": [
    {
     "data": {
      "text/plain": [
       "(torch.Size([1, 1, 6]), torch.Size([1, 1, 1, 6]))"
      ]
     },
     "execution_count": 289,
     "metadata": {},
     "output_type": "execute_result"
    }
   ],
   "source": [
    "X.shape, match_batch_shape(X, torch.tensor([])).shape"
   ]
  },
  {
   "cell_type": "code",
   "execution_count": 290,
   "metadata": {},
   "outputs": [
    {
     "ename": "RuntimeError",
     "evalue": "invalid argument 0: Tensors must have same number of dimensions: got 3 and 4 at /pytorch/aten/src/TH/generic/THTensor.cpp:603",
     "output_type": "error",
     "traceback": [
      "\u001b[0;31m---------------------------------------------------------------------------\u001b[0m",
      "\u001b[0;31mRuntimeError\u001b[0m                              Traceback (most recent call last)",
      "\u001b[0;32m<ipython-input-290-01bcee851f06>\u001b[0m in \u001b[0;36m<module>\u001b[0;34m\u001b[0m\n\u001b[0;32m----> 1\u001b[0;31m \u001b[0mtorch\u001b[0m\u001b[0;34m.\u001b[0m\u001b[0mcat\u001b[0m\u001b[0;34m(\u001b[0m\u001b[0;34m[\u001b[0m\u001b[0mX\u001b[0m\u001b[0;34m,\u001b[0m \u001b[0mmatch_batch_shape\u001b[0m\u001b[0;34m(\u001b[0m\u001b[0mX\u001b[0m\u001b[0;34m,\u001b[0m \u001b[0mtorch\u001b[0m\u001b[0;34m.\u001b[0m\u001b[0mtensor\u001b[0m\u001b[0;34m(\u001b[0m\u001b[0;34m[\u001b[0m\u001b[0;34m]\u001b[0m\u001b[0;34m)\u001b[0m\u001b[0;34m)\u001b[0m\u001b[0;34m]\u001b[0m\u001b[0;34m,\u001b[0m \u001b[0mdim\u001b[0m\u001b[0;34m=\u001b[0m\u001b[0;34m-\u001b[0m\u001b[0;36m2\u001b[0m\u001b[0;34m)\u001b[0m\u001b[0;34m\u001b[0m\u001b[0;34m\u001b[0m\u001b[0m\n\u001b[0m",
      "\u001b[0;31mRuntimeError\u001b[0m: invalid argument 0: Tensors must have same number of dimensions: got 3 and 4 at /pytorch/aten/src/TH/generic/THTensor.cpp:603"
     ]
    }
   ],
   "source": [
    "torch.cat([X, match_batch_shape(X, torch.tensor([]))], dim=-2)"
   ]
  }
 ],
 "metadata": {
  "kernelspec": {
   "display_name": "Python 3",
   "language": "python",
   "name": "python3"
  },
  "language_info": {
   "codemirror_mode": {
    "name": "ipython",
    "version": 3
   },
   "file_extension": ".py",
   "mimetype": "text/x-python",
   "name": "python",
   "nbconvert_exporter": "python",
   "pygments_lexer": "ipython3",
   "version": "3.7.4"
  }
 },
 "nbformat": 4,
 "nbformat_minor": 4
}
