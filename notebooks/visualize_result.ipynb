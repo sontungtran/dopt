{
 "cells": [
  {
   "cell_type": "code",
   "execution_count": 1,
   "metadata": {},
   "outputs": [
    {
     "data": {
      "text/plain": [
       "{'distribute': {'computer_list': ['tst008@acet116-lnx-10.bucknell.edu',\n",
       "   'tst008@acet116-lnx-11.bucknell.edu',\n",
       "   'tst008@acet116-lnx-12.bucknell.edu'],\n",
       "  'max_jobs': 1,\n",
       "  'min_gpu': 500},\n",
       " 'optimizer': {'num_restarts': 10,\n",
       "  'raw_samples': 500,\n",
       "  'options': {'batch_limit': 5, 'max_iter': 200, 'seed': 0}}}"
      ]
     },
     "execution_count": 1,
     "metadata": {},
     "output_type": "execute_result"
    }
   ],
   "source": [
    "import sys\n",
    "sys.path.insert(0,\"../\")\n",
    "import time\n",
    "\n",
    "import numpy as np\n",
    "from matplotlib import pyplot as plt\n",
    "from IPython.display import clear_output\n",
    "\n",
    "from src.optimizers.neioptimizer import *\n",
    "from src.utils.config import CONFIG\n",
    "CONFIG"
   ]
  },
  {
   "cell_type": "code",
   "execution_count": 422,
   "metadata": {},
   "outputs": [
    {
     "data": {
      "image/png": "[encoded data removed]",
      "text/plain": [
       "<Figure size 576x432 with 1 Axes>"
      ]
     },
     "metadata": {
      "needs_background": "light"
     },
     "output_type": "display_data"
    }
   ],
   "source": [
    "from botorch.test_functions.synthetic import Hartmann\n",
    "\n",
    "\n",
    "FILE_NAME = \"../yaleface_first.json\"\n",
    "\n",
    "\n",
    "def visualize():\n",
    "    # Load the data\n",
    "    train_obj_nei, train_yvar_nei = [], []\n",
    "    with open(FILE_NAME, \"r\") as f:\n",
    "        for line in f.readlines():\n",
    "            observation = json.loads(line)\n",
    "            train_obj_nei.append(observation[\"result\"][0])\n",
    "            train_yvar_nei.append(np.sqrt(observation[\"result\"][1]))\n",
    "\n",
    "#     neg_hartmann6 = Hartmann(negate=True)\n",
    "#     GLOBAL_MAXIMUM = neg_hartmann6.optimal_value\n",
    "    GLOBAL_MAXIMUM = 1\n",
    "\n",
    "    iters = np.arange(max(len(train_obj_nei), len(train_obj_nei)))\n",
    "    y_nei = np.array(train_obj_nei)\n",
    "    y_err = np.array(train_yvar_nei)\n",
    "\n",
    "    fig, ax = plt.subplots(1, 1, figsize=(8, 6))\n",
    "    ax.errorbar(iters, y_nei, yerr=y_err, label=\"qNEI\", linewidth=1.5, ecolor=['yellow'])\n",
    "    plt.plot([0, iters.shape[0]], [GLOBAL_MAXIMUM] * 2, 'k', label=\"true best bjective\", linewidth=2)\n",
    "    ax.set_ylim(bottom=0.5)\n",
    "    ax.set(xlabel='number of observations (beyond initial points)', ylabel='best objective value')\n",
    "    ax.legend(loc=\"lower right\")\n",
    "    plt.show()\n",
    "\n",
    "count = 199\n",
    "while count < 200:\n",
    "    visualize()\n",
    "    clear_output(wait=True)\n",
    "    time.sleep(2)\n",
    "    count += 1"
   ]
  },
  {
   "cell_type": "markdown",
   "metadata": {},
   "source": [
    "# -------------- DRAFT --------------"
   ]
  },
  {
   "cell_type": "code",
   "execution_count": 508,
   "metadata": {},
   "outputs": [
    {
     "data": {
      "text/plain": [
       "0.49500226974487305"
      ]
     },
     "execution_count": 508,
     "metadata": {},
     "output_type": "execute_result"
    }
   ],
   "source": [
    "torch.rand(1,1,1,1).item()"
   ]
  },
  {
   "cell_type": "code",
   "execution_count": null,
   "metadata": {},
   "outputs": [],
   "source": [
    "datetime.datetime.now().strftime(\"%m/%d/%Y-%H:%M:%S\")"
   ]
  },
  {
   "cell_type": "code",
   "execution_count": 288,
   "metadata": {},
   "outputs": [
    {
     "data": {
      "text/plain": [
       "(tensor([[[0.0434, 0.3694, 0.9811, 0.5450, 0.7956, 0.7019]]]),\n",
       " torch.Size([1, 1, 6]))"
      ]
     },
     "execution_count": 288,
     "metadata": {},
     "output_type": "execute_result"
    }
   ],
   "source": [
    "from botorch.utils.transforms import (\n",
    "    match_batch_shape\n",
    ")\n",
    "X = torch.rand((1,1,6))\n",
    "X, X.shape"
   ]
  },
  {
   "cell_type": "code",
   "execution_count": 289,
   "metadata": {},
   "outputs": [
    {
     "data": {
      "text/plain": [
       "(torch.Size([1, 1, 6]), torch.Size([1, 1, 1, 6]))"
      ]
     },
     "execution_count": 289,
     "metadata": {},
     "output_type": "execute_result"
    }
   ],
   "source": [
    "X.shape, match_batch_shape(X, torch.tensor([])).shape"
   ]
  },
  {
   "cell_type": "code",
   "execution_count": 290,
   "metadata": {},
   "outputs": [
    {
     "ename": "RuntimeError",
     "evalue": "invalid argument 0: Tensors must have same number of dimensions: got 3 and 4 at /pytorch/aten/src/TH/generic/THTensor.cpp:603",
     "output_type": "error",
     "traceback": [
      "\u001b[0;31m---------------------------------------------------------------------------\u001b[0m",
      "\u001b[0;31mRuntimeError\u001b[0m                              Traceback (most recent call last)",
      "\u001b[0;32m<ipython-input-290-01bcee851f06>\u001b[0m in \u001b[0;36m<module>\u001b[0;34m\u001b[0m\n\u001b[0;32m----> 1\u001b[0;31m \u001b[0mtorch\u001b[0m\u001b[0;34m.\u001b[0m\u001b[0mcat\u001b[0m\u001b[0;34m(\u001b[0m\u001b[0;34m[\u001b[0m\u001b[0mX\u001b[0m\u001b[0;34m,\u001b[0m \u001b[0mmatch_batch_shape\u001b[0m\u001b[0;34m(\u001b[0m\u001b[0mX\u001b[0m\u001b[0;34m,\u001b[0m \u001b[0mtorch\u001b[0m\u001b[0;34m.\u001b[0m\u001b[0mtensor\u001b[0m\u001b[0;34m(\u001b[0m\u001b[0;34m[\u001b[0m\u001b[0;34m]\u001b[0m\u001b[0;34m)\u001b[0m\u001b[0;34m)\u001b[0m\u001b[0;34m]\u001b[0m\u001b[0;34m,\u001b[0m \u001b[0mdim\u001b[0m\u001b[0;34m=\u001b[0m\u001b[0;34m-\u001b[0m\u001b[0;36m2\u001b[0m\u001b[0;34m)\u001b[0m\u001b[0;34m\u001b[0m\u001b[0;34m\u001b[0m\u001b[0m\n\u001b[0m",
      "\u001b[0;31mRuntimeError\u001b[0m: invalid argument 0: Tensors must have same number of dimensions: got 3 and 4 at /pytorch/aten/src/TH/generic/THTensor.cpp:603"
     ]
    }
   ],
   "source": [
    "torch.cat([X, match_batch_shape(X, torch.tensor([]))], dim=-2)"
   ]
  },
  {
   "cell_type": "code",
   "execution_count": 444,
   "metadata": {},
   "outputs": [],
   "source": [
    "from botorch import fit_gpytorch_model\n",
    "from botorch.models import HeteroskedasticSingleTaskGP\n",
    "from gpytorch.mlls import ExactMarginalLogLikelihood\n",
    "import torch\n",
    "\n",
    "train_X = torch.rand(1, 1, 2)\n",
    "train_Y = torch.sin(train_X).sum(dim=-1, keepdim=True)\n",
    "se = torch.norm(train_X, dim=-1, keepdim=True)\n",
    "train_Yvar = 0.1 + se * torch.rand_like(train_Y)\n",
    "model = HeteroskedasticSingleTaskGP(train_X, train_Y, train_Yvar).to(train_X)\n",
    "mll = ExactMarginalLogLikelihood(model.likelihood, model)\n",
    "fit_gpytorch_model(mll);"
   ]
  },
  {
   "cell_type": "code",
   "execution_count": 409,
   "metadata": {},
   "outputs": [],
   "source": [
    "from abc import ABC, abstractmethod\n",
    "from typing import Optional\n",
    "\n",
    "import torch\n",
    "from botorch.exceptions import UnsupportedError\n",
    "from botorch.posteriors import Posterior\n",
    "from botorch.sampling import MCSampler\n",
    "from botorch.utils.sampling import draw_sobol_normal_samples, manual_seed\n",
    "from torch import Tensor\n",
    "from torch.nn import Module\n",
    "from torch.quasirandom import SobolEngine\n",
    "\n",
    "\n",
    "class SobolQMCNormalSampler(MCSampler):\n",
    "    r\"\"\"Sampler for quasi-MC base samples using Sobol sequences.\n",
    "\n",
    "    Example:\n",
    "        >>> sampler = SobolQMCNormalSampler(1000, seed=1234)\n",
    "        >>> posterior = model.posterior(test_X)\n",
    "        >>> samples = sampler(posterior)\n",
    "    \"\"\"\n",
    "\n",
    "    def __init__(\n",
    "        self,\n",
    "        num_samples: int,\n",
    "        resample: bool = False,\n",
    "        seed: Optional[int] = None,\n",
    "        collapse_batch_dims: bool = True,\n",
    "    ) -> None:\n",
    "        r\"\"\"Sampler for quasi-MC base samples using Sobol sequences.\n",
    "\n",
    "        Args:\n",
    "            num_samples: The number of samples to use.\n",
    "            resample: If `True`, re-draw samples in each `forward` evaluation -\n",
    "                this results in stochastic acquisition functions (and thus should\n",
    "                not be used with deterministic optimization algorithms).\n",
    "            seed: The seed for the RNG. If omitted, use a random seed.\n",
    "            collapse_batch_dims: If True, collapse the t-batch dimensions to\n",
    "                size 1. This is useful for preventing sampling variance across\n",
    "                t-batches.\n",
    "        \"\"\"\n",
    "        super().__init__()\n",
    "        self._sample_shape = torch.Size([num_samples])\n",
    "        self.collapse_batch_dims = collapse_batch_dims\n",
    "        self.resample = resample\n",
    "        self.seed = seed if seed is not None else torch.randint(0, 1000000, (1,)).item()\n",
    "\n",
    "    def _construct_base_samples(self, posterior: Posterior, shape: torch.Size) -> None:\n",
    "        r\"\"\"Generate quasi-random Normal base samples (if necessary).\n",
    "\n",
    "        This function will generate a new set of base samples and set the\n",
    "        `base_samples` buffer if one of the following is true:\n",
    "\n",
    "        - `resample=True`\n",
    "        - the MCSampler has no `base_samples` attribute.\n",
    "        - `shape` is different than `self.base_samples.shape` (if\n",
    "          `collapse_batch_dims=True`, then batch dimensions of will be\n",
    "          automatically broadcasted as necessary)\n",
    "\n",
    "        Args:\n",
    "            posterior: The Posterior for which to generate base samples.\n",
    "            shape: The shape of the base samples to construct.\n",
    "        \"\"\"\n",
    "        if (\n",
    "            self.resample\n",
    "            or not hasattr(self, \"base_samples\")\n",
    "            or self.base_samples.shape[-2:] != shape[-2:]\n",
    "            or (not self.collapse_batch_dims and shape != self.base_samples.shape)\n",
    "        ):\n",
    "            output_dim = shape[-2:].numel()\n",
    "            if output_dim > SobolEngine.MAXDIM:\n",
    "                raise UnsupportedError(\n",
    "                    \"SobolQMCSampler only supports dimensions \"\n",
    "                    f\"`q * o <= {SobolEngine.MAXDIM}`. Requested: {output_dim}\"\n",
    "                )\n",
    "            base_samples = draw_sobol_normal_samples(\n",
    "                d=output_dim,\n",
    "                n=shape[:-2].numel(),\n",
    "                device=posterior.device,\n",
    "                dtype=posterior.dtype,\n",
    "                seed=self.seed,\n",
    "            )\n",
    "            print(base_samples)\n",
    "            print(shape)\n",
    "            self.seed += 1\n",
    "            base_samples = base_samples.view(shape)\n",
    "            self.register_buffer(\"base_samples\", base_samples)\n",
    "        elif self.collapse_batch_dims and shape != posterior.event_shape:\n",
    "            self.base_samples = self.base_samples.view(shape)\n",
    "        if self.base_samples.device != posterior.device:\n",
    "            self.to(device=posterior.device)  # pragma: nocover\n",
    "        if self.base_samples.dtype != posterior.dtype:\n",
    "            self.to(dtype=posterior.dtype)"
   ]
  },
  {
   "cell_type": "code",
   "execution_count": 457,
   "metadata": {},
   "outputs": [
    {
     "data": {
      "text/plain": [
       "tensor([[[0.4524, 0.8685]],\n",
       "\n",
       "        [[0.1000, 0.2000]]])"
      ]
     },
     "execution_count": 457,
     "metadata": {},
     "output_type": "execute_result"
    }
   ],
   "source": [
    "candidate = torch.tensor([0.1, 0.2]).view(-1, 1,2)\n",
    "torch.cat([train_X, candidate])"
   ]
  },
  {
   "cell_type": "code",
   "execution_count": 496,
   "metadata": {},
   "outputs": [
    {
     "data": {
      "text/plain": [
       "tensor([[[0.3447]]])"
      ]
     },
     "execution_count": 496,
     "metadata": {},
     "output_type": "execute_result"
    }
   ],
   "source": [
    "train_Yvar"
   ]
  },
  {
   "cell_type": "code",
   "execution_count": 491,
   "metadata": {},
   "outputs": [],
   "source": [
    "p = model.posterior(torch.cat([train_X]))"
   ]
  },
  {
   "cell_type": "code",
   "execution_count": 504,
   "metadata": {},
   "outputs": [
    {
     "data": {
      "text/plain": [
       "<bound method Distribution.enumerate_support of MultivariateNormal(loc: tensor([[1.2006]], grad_fn=<ViewBackward>), covariance_matrix: tensor([[[0.2736]]], grad_fn=<AddBackward0>), precision_matrix: tensor([[[3.6550]]], grad_fn=<ExpandBackward>), scale_tril: tensor([[[0.5231]]], grad_fn=<ExpandBackward>))>"
      ]
     },
     "execution_count": 504,
     "metadata": {},
     "output_type": "execute_result"
    }
   ],
   "source": [
    "p.mvn.enumerate_support"
   ]
  },
  {
   "cell_type": "code",
   "execution_count": 472,
   "metadata": {},
   "outputs": [
    {
     "name": "stdout",
     "output_type": "stream",
     "text": [
      "tensor([[-0.5362]])\n",
      "torch.Size([1, 1, 1, 1])\n"
     ]
    },
    {
     "data": {
      "text/plain": [
       "tensor([[[[0.9202]]]], grad_fn=<UnsqueezeBackward0>)"
      ]
     },
     "execution_count": 472,
     "metadata": {},
     "output_type": "execute_result"
    }
   ],
   "source": [
    "s = SobolQMCNormalSampler(1)\n",
    "s(p)"
   ]
  },
  {
   "cell_type": "code",
   "execution_count": 468,
   "metadata": {},
   "outputs": [
    {
     "ename": "RuntimeError",
     "evalue": "The expanded size of the tensor (1) must match the existing size (2) at non-singleton dimension 3.  Target sizes: [1, 1, 1, 1].  Tensor sizes: [1, 2]",
     "output_type": "error",
     "traceback": [
      "\u001b[0;31m---------------------------------------------------------------------------\u001b[0m",
      "\u001b[0;31mRuntimeError\u001b[0m                              Traceback (most recent call last)",
      "\u001b[0;32m<ipython-input-468-2236e9216832>\u001b[0m in \u001b[0;36m<module>\u001b[0;34m\u001b[0m\n\u001b[1;32m      1\u001b[0m \u001b[0mmodel\u001b[0m\u001b[0;34m.\u001b[0m\u001b[0mposterior\u001b[0m\u001b[0;34m(\u001b[0m\u001b[0mtrain_X\u001b[0m\u001b[0;34m.\u001b[0m\u001b[0mview\u001b[0m\u001b[0;34m(\u001b[0m\u001b[0;34m-\u001b[0m\u001b[0;36m1\u001b[0m\u001b[0;34m,\u001b[0m \u001b[0;36m2\u001b[0m\u001b[0;34m)\u001b[0m\u001b[0;34m)\u001b[0m\u001b[0;31m\\\u001b[0m\u001b[0;34m\u001b[0m\u001b[0;34m\u001b[0m\u001b[0m\n\u001b[1;32m      2\u001b[0m     .sample(\n\u001b[0;32m----> 3\u001b[0;31m         \u001b[0mbase_samples\u001b[0m\u001b[0;34m=\u001b[0m\u001b[0mtorch\u001b[0m\u001b[0;34m.\u001b[0m\u001b[0mtensor\u001b[0m\u001b[0;34m(\u001b[0m\u001b[0;34m[\u001b[0m\u001b[0;36m0.1\u001b[0m\u001b[0;34m,\u001b[0m \u001b[0;36m0.2\u001b[0m\u001b[0;34m]\u001b[0m\u001b[0;34m)\u001b[0m\u001b[0;34m.\u001b[0m\u001b[0mview\u001b[0m\u001b[0;34m(\u001b[0m\u001b[0;34m-\u001b[0m\u001b[0;36m1\u001b[0m\u001b[0;34m,\u001b[0m \u001b[0;36m2\u001b[0m\u001b[0;34m)\u001b[0m\u001b[0;34m\u001b[0m\u001b[0;34m\u001b[0m\u001b[0m\n\u001b[0m\u001b[1;32m      4\u001b[0m )\n",
      "\u001b[0;32m~/.local/lib/python3.7/site-packages/botorch/posteriors/posterior.py\u001b[0m in \u001b[0;36msample\u001b[0;34m(self, sample_shape, base_samples)\u001b[0m\n\u001b[1;32m     90\u001b[0m         \"\"\"\n\u001b[1;32m     91\u001b[0m         \u001b[0;32mwith\u001b[0m \u001b[0mtorch\u001b[0m\u001b[0;34m.\u001b[0m\u001b[0mno_grad\u001b[0m\u001b[0;34m(\u001b[0m\u001b[0;34m)\u001b[0m\u001b[0;34m:\u001b[0m\u001b[0;34m\u001b[0m\u001b[0;34m\u001b[0m\u001b[0m\n\u001b[0;32m---> 92\u001b[0;31m             \u001b[0;32mreturn\u001b[0m \u001b[0mself\u001b[0m\u001b[0;34m.\u001b[0m\u001b[0mrsample\u001b[0m\u001b[0;34m(\u001b[0m\u001b[0msample_shape\u001b[0m\u001b[0;34m=\u001b[0m\u001b[0msample_shape\u001b[0m\u001b[0;34m,\u001b[0m \u001b[0mbase_samples\u001b[0m\u001b[0;34m=\u001b[0m\u001b[0mbase_samples\u001b[0m\u001b[0;34m)\u001b[0m\u001b[0;34m\u001b[0m\u001b[0;34m\u001b[0m\u001b[0m\n\u001b[0m",
      "\u001b[0;32m~/.local/lib/python3.7/site-packages/botorch/posteriors/gpytorch.py\u001b[0m in \u001b[0;36mrsample\u001b[0;34m(self, sample_shape, base_samples)\u001b[0m\n\u001b[1;32m     75\u001b[0m                 \u001b[0;32mraise\u001b[0m \u001b[0mRuntimeError\u001b[0m\u001b[0;34m(\u001b[0m\u001b[0;34m\"sample_shape disagrees with shape of base_samples.\"\u001b[0m\u001b[0;34m)\u001b[0m\u001b[0;34m\u001b[0m\u001b[0;34m\u001b[0m\u001b[0m\n\u001b[1;32m     76\u001b[0m             \u001b[0;31m# get base_samples to the correct shape\u001b[0m\u001b[0;34m\u001b[0m\u001b[0;34m\u001b[0m\u001b[0;34m\u001b[0m\u001b[0m\n\u001b[0;32m---> 77\u001b[0;31m             \u001b[0mbase_samples\u001b[0m \u001b[0;34m=\u001b[0m \u001b[0mbase_samples\u001b[0m\u001b[0;34m.\u001b[0m\u001b[0mexpand\u001b[0m\u001b[0;34m(\u001b[0m\u001b[0msample_shape\u001b[0m \u001b[0;34m+\u001b[0m \u001b[0mself\u001b[0m\u001b[0;34m.\u001b[0m\u001b[0mevent_shape\u001b[0m\u001b[0;34m)\u001b[0m\u001b[0;34m\u001b[0m\u001b[0;34m\u001b[0m\u001b[0m\n\u001b[0m\u001b[1;32m     78\u001b[0m             \u001b[0;31m# remove output dimension in single output case\u001b[0m\u001b[0;34m\u001b[0m\u001b[0;34m\u001b[0m\u001b[0;34m\u001b[0m\u001b[0m\n\u001b[1;32m     79\u001b[0m             \u001b[0;32mif\u001b[0m \u001b[0;32mnot\u001b[0m \u001b[0mself\u001b[0m\u001b[0;34m.\u001b[0m\u001b[0m_is_mt\u001b[0m\u001b[0;34m:\u001b[0m\u001b[0;34m\u001b[0m\u001b[0;34m\u001b[0m\u001b[0m\n",
      "\u001b[0;31mRuntimeError\u001b[0m: The expanded size of the tensor (1) must match the existing size (2) at non-singleton dimension 3.  Target sizes: [1, 1, 1, 1].  Tensor sizes: [1, 2]"
     ]
    }
   ],
   "source": [
    "model.posterior(train_X.view(-1, 2))\\\n",
    "    .sample(\n",
    "        base_samples=torch.tensor([0.1, 0.2]).view(-1, 2)\n",
    ")"
   ]
  },
  {
   "cell_type": "code",
   "execution_count": 424,
   "metadata": {},
   "outputs": [
    {
     "data": {
      "text/plain": [
       "torch.Size([20])"
      ]
     },
     "execution_count": 424,
     "metadata": {},
     "output_type": "execute_result"
    }
   ],
   "source": [
    "with torch.no_grad():\n",
    "    shape = model.posterior(train_X.view(-1, 2)).mvn.event_shape\n",
    "shape"
   ]
  }
 ],
 "metadata": {
  "kernelspec": {
   "display_name": "Python 3",
   "language": "python",
   "name": "python3"
  },
  "language_info": {
   "codemirror_mode": {
    "name": "ipython",
    "version": 3
   },
   "file_extension": ".py",
   "mimetype": "text/x-python",
   "name": "python",
   "nbconvert_exporter": "python",
   "pygments_lexer": "ipython3",
   "version": "3.7.4"
  }
 },
 "nbformat": 4,
 "nbformat_minor": 4
}
