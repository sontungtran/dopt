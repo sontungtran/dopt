{
 "cells": [
  {
   "cell_type": "code",
   "execution_count": 1,
   "metadata": {},
   "outputs": [
    {
     "data": {
      "text/plain": [
       "{'distribute': {'computer_list': ['tst008@acet116-lnx-10.bucknell.edu',\n",
       "   'tst008@acet116-lnx-11.bucknell.edu',\n",
       "   'tst008@acet116-lnx-12.bucknell.edu'],\n",
       "  'max_jobs': 1,\n",
       "  'min_gpu': 500},\n",
       " 'optimizer': {'num_restarts': 10,\n",
       "  'raw_samples': 500,\n",
       "  'options': {'batch_limit': 5, 'max_iter': 200, 'seed': 0}}}"
      ]
     },
     "execution_count": 1,
     "metadata": {},
     "output_type": "execute_result"
    }
   ],
   "source": [
    "import sys\n",
    "sys.path.insert(0,\"../\")\n",
    "import time\n",
    "\n",
    "import numpy as np\n",
    "from matplotlib import pyplot as plt\n",
    "from IPython.display import clear_output\n",
    "\n",
    "from dopt.optimizers.neioptimizer import *\n",
    "from dopt.utils.config import CONFIG\n",
    "CONFIG"
   ]
  }
 ],
 "metadata": {
  "kernelspec": {
   "display_name": "Python 3",
   "language": "python",
   "name": "python3"
  },
  "language_info": {
   "codemirror_mode": {
    "name": "ipython",
    "version": 3
   },
   "file_extension": ".py",
   "mimetype": "text/x-python",
   "name": "python",
   "nbconvert_exporter": "python",
   "pygments_lexer": "ipython3",
   "version": "3.7.4"
  }
 },
 "nbformat": 4,
 "nbformat_minor": 4
}
